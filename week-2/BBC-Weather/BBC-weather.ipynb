{
 "cells": [
  {
   "cell_type": "code",
   "execution_count": 53,
   "metadata": {
    "collapsed": true,
    "ExecuteTime": {
     "end_time": "2023-06-16T17:13:54.520944500Z",
     "start_time": "2023-06-16T17:13:54.505402300Z"
    }
   },
   "outputs": [],
   "source": [
    "# Importing necessary Libraries\n",
    "\n",
    "import datetime\n",
    "\n",
    "import pandas as pd\n",
    "import requests\n",
    "from bs4 import BeautifulSoup\n",
    "import json\n",
    "from urllib.parse import urlencode\n"
   ]
  },
  {
   "cell_type": "code",
   "execution_count": 54,
   "outputs": [],
   "source": [
    "# Defining the API for the Request (Getting the City ID)\n",
    "city = \"Chennai\"\n",
    "\n",
    "url = \"https://locator-service.api.bbci.co.uk/locations?\"+ urlencode({\n",
    "       \"api_key\":\"AGbFAKx58hyjQScCXIYrxuEwJh2W2cmv\",\n",
    "        \"s\":city,\n",
    "        \"stack\":\"aws\",\n",
    "        \"locale\":\"en\",\n",
    "        \"filter\":\"international\",\n",
    "        \"place-types\":\"settlement,airport,district\",\n",
    "        \"order\":\"importance\",\n",
    "        \"a\":'true',\n",
    "        'format':'json'\n",
    "    })\n"
   ],
   "metadata": {
    "collapsed": false,
    "ExecuteTime": {
     "end_time": "2023-06-16T17:13:55.596221500Z",
     "start_time": "2023-06-16T17:13:55.573221400Z"
    }
   }
  },
  {
   "cell_type": "code",
   "execution_count": 55,
   "outputs": [],
   "source": [
    "# Sending the request\n",
    "\n",
    "result = requests.get(url).json()\n",
    "city_id = result[\"response\"][\"results\"][\"results\"][0][\"id\"]"
   ],
   "metadata": {
    "collapsed": false,
    "ExecuteTime": {
     "end_time": "2023-06-16T17:13:56.820440700Z",
     "start_time": "2023-06-16T17:13:56.087374900Z"
    }
   }
  },
  {
   "cell_type": "code",
   "execution_count": 56,
   "outputs": [
    {
     "name": "stdout",
     "output_type": "stream",
     "text": [
      "1264527\n"
     ]
    }
   ],
   "source": [
    "print(city_id)"
   ],
   "metadata": {
    "collapsed": false,
    "ExecuteTime": {
     "end_time": "2023-06-16T17:13:56.836368800Z",
     "start_time": "2023-06-16T17:13:56.823443500Z"
    }
   }
  },
  {
   "cell_type": "code",
   "execution_count": 57,
   "outputs": [],
   "source": [
    "# Scrapping the webpage of that city\n",
    "\n",
    "webPage = requests.get(\"https://www.bbc.com/weather/\"+city_id)"
   ],
   "metadata": {
    "collapsed": false,
    "ExecuteTime": {
     "end_time": "2023-06-16T17:13:57.174977200Z",
     "start_time": "2023-06-16T17:13:57.012133600Z"
    }
   }
  },
  {
   "cell_type": "code",
   "execution_count": 58,
   "outputs": [],
   "source": [
    "# Parsing the Request to html content\n",
    "\n",
    "soup = BeautifulSoup(webPage.content,'html.parser')"
   ],
   "metadata": {
    "collapsed": false,
    "ExecuteTime": {
     "end_time": "2023-06-16T17:13:57.685125200Z",
     "start_time": "2023-06-16T17:13:57.635145300Z"
    }
   }
  },
  {
   "cell_type": "code",
   "execution_count": 59,
   "outputs": [],
   "source": [
    "# Extracting the High and Low temp.\n",
    "\n",
    "dailyHigh = soup.find_all('span',attrs={\n",
    "    'class':\"wr-day-temperature__high-value\"\n",
    "})\n",
    "\n",
    "dailyLow = soup.find_all('span',attrs={\n",
    "    'class':\"wr-day-temperature__low-value\"\n",
    "})"
   ],
   "metadata": {
    "collapsed": false,
    "ExecuteTime": {
     "end_time": "2023-06-16T17:13:57.916342400Z",
     "start_time": "2023-06-16T17:13:57.884794700Z"
    }
   }
  },
  {
   "cell_type": "code",
   "execution_count": 60,
   "outputs": [],
   "source": [
    "# formatting the High Temp. data\n",
    "high = []\n",
    "for oneDay in dailyHigh:\n",
    "    high.append(oneDay.text.split()[0][:-1])\n",
    "high.append(None)"
   ],
   "metadata": {
    "collapsed": false,
    "ExecuteTime": {
     "end_time": "2023-06-16T17:13:58.164325300Z",
     "start_time": "2023-06-16T17:13:58.143779600Z"
    }
   }
  },
  {
   "cell_type": "code",
   "execution_count": 61,
   "outputs": [],
   "source": [
    "# formatting the Low Temp. data\n",
    "\n",
    "low = []\n",
    "for oneDay in dailyLow:\n",
    "    low.append(oneDay.text.split()[0][:-1])"
   ],
   "metadata": {
    "collapsed": false,
    "ExecuteTime": {
     "end_time": "2023-06-16T17:13:58.414397500Z",
     "start_time": "2023-06-16T17:13:58.399388Z"
    }
   }
  },
  {
   "cell_type": "code",
   "execution_count": 62,
   "outputs": [],
   "source": [
    "# Generating the dates\n",
    "\n",
    "date = datetime.datetime.now()\n",
    "date = int(str(date).split()[0].split(\"-\")[-1])\n",
    "\n",
    "dateList = []\n",
    "for i in range(14):\n",
    "    dateList.append(f\"2023-06-{date}\")\n",
    "    date += 1"
   ],
   "metadata": {
    "collapsed": false,
    "ExecuteTime": {
     "end_time": "2023-06-16T17:13:58.691384600Z",
     "start_time": "2023-06-16T17:13:58.673344300Z"
    }
   }
  },
  {
   "cell_type": "code",
   "execution_count": 63,
   "outputs": [
    {
     "name": "stdout",
     "output_type": "stream",
     "text": [
      "          Date Low  High\n",
      "0   2023-06-16  29    39\n",
      "1   2023-06-17  27    35\n",
      "2   2023-06-18  26    33\n",
      "3   2023-06-19  25    34\n",
      "4   2023-06-20  25    35\n",
      "5   2023-06-21  25    34\n",
      "6   2023-06-22  26    34\n",
      "7   2023-06-23  26    34\n",
      "8   2023-06-24  26    34\n",
      "9   2023-06-25  26    34\n",
      "10  2023-06-26  26    35\n",
      "11  2023-06-27  26    34\n",
      "12  2023-06-28  27    33\n",
      "13  2023-06-29  26  None\n"
     ]
    }
   ],
   "source": [
    "# Creating the DataFrame\n",
    "\n",
    "df = {\"Date\":dateList,\n",
    "      \"Low\":low,\n",
    "      \"High\":high}\n",
    "df = pd.DataFrame(df)\n",
    "print(df)"
   ],
   "metadata": {
    "collapsed": false,
    "ExecuteTime": {
     "end_time": "2023-06-16T17:13:58.955475200Z",
     "start_time": "2023-06-16T17:13:58.944486Z"
    }
   }
  },
  {
   "cell_type": "code",
   "execution_count": 64,
   "outputs": [],
   "source": [
    "# Saving the DataFrame to csv file\n",
    "df.to_csv(\"BBC-Weather.csv\",index= False)"
   ],
   "metadata": {
    "collapsed": false,
    "ExecuteTime": {
     "end_time": "2023-06-16T17:13:59.581803200Z",
     "start_time": "2023-06-16T17:13:59.563352900Z"
    }
   }
  },
  {
   "cell_type": "code",
   "execution_count": null,
   "outputs": [],
   "source": [],
   "metadata": {
    "collapsed": false
   }
  }
 ],
 "metadata": {
  "kernelspec": {
   "display_name": "Python 3",
   "language": "python",
   "name": "python3"
  },
  "language_info": {
   "codemirror_mode": {
    "name": "ipython",
    "version": 2
   },
   "file_extension": ".py",
   "mimetype": "text/x-python",
   "name": "python",
   "nbconvert_exporter": "python",
   "pygments_lexer": "ipython2",
   "version": "2.7.6"
  }
 },
 "nbformat": 4,
 "nbformat_minor": 0
}
