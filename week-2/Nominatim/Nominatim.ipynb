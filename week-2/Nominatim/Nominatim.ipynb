{
 "cells": [
  {
   "cell_type": "code",
   "execution_count": 7,
   "metadata": {
    "collapsed": true,
    "ExecuteTime": {
     "end_time": "2023-06-24T04:10:22.254080700Z",
     "start_time": "2023-06-24T04:10:22.248551300Z"
    }
   },
   "outputs": [],
   "source": [
    "from geopy.geocoders import Nominatim"
   ]
  },
  {
   "cell_type": "code",
   "execution_count": 8,
   "outputs": [],
   "source": [
    "# Activate the nominatim geocode\n",
    "locator = Nominatim(user_agent='myGeocoder')\n",
    "\n",
    "# Adding the location\n",
    "location = locator.geocode(\"Chennai\")"
   ],
   "metadata": {
    "collapsed": false,
    "ExecuteTime": {
     "end_time": "2023-06-24T04:10:24.296772600Z",
     "start_time": "2023-06-24T04:10:22.663833Z"
    }
   }
  },
  {
   "cell_type": "code",
   "execution_count": 9,
   "outputs": [
    {
     "data": {
      "text/plain": "Location(Chennai, Chennai District, Tamil Nadu, 600001, India, (13.0836939, 80.270186, 0.0))"
     },
     "execution_count": 9,
     "metadata": {},
     "output_type": "execute_result"
    }
   ],
   "source": [
    "location"
   ],
   "metadata": {
    "collapsed": false,
    "ExecuteTime": {
     "end_time": "2023-06-24T04:10:24.310196200Z",
     "start_time": "2023-06-24T04:10:24.296772600Z"
    }
   }
  },
  {
   "cell_type": "code",
   "execution_count": 10,
   "outputs": [
    {
     "name": "stdout",
     "output_type": "stream",
     "text": [
      "longitude = 80.270186\n",
      "latitude = 13.0836939\n"
     ]
    }
   ],
   "source": [
    "# latitude and longitude\n",
    "print(f\"longitude = {location.longitude}\\nlatitude = {location.latitude}\")"
   ],
   "metadata": {
    "collapsed": false,
    "ExecuteTime": {
     "end_time": "2023-06-24T04:10:24.383088600Z",
     "start_time": "2023-06-24T04:10:24.311226700Z"
    }
   }
  },
  {
   "cell_type": "code",
   "execution_count": 11,
   "outputs": [
    {
     "data": {
      "text/plain": "({'place_id': 41063770,\n  'licence': 'Data © OpenStreetMap contributors, ODbL 1.0. https://osm.org/copyright',\n  'osm_type': 'node',\n  'osm_id': 3233393892,\n  'boundingbox': ['12.9236939', '13.2436939', '80.110186', '80.430186'],\n  'lat': '13.0836939',\n  'lon': '80.270186',\n  'display_name': 'Chennai, Chennai District, Tamil Nadu, 600001, India',\n  'class': 'place',\n  'type': 'city',\n  'importance': 0.7380422595919259,\n  'icon': 'https://nominatim.openstreetmap.org/ui/mapicons/poi_place_city.p.20.png'},\n Point(13.0836939, 80.270186, 0.0),\n 80.270186,\n 13.0836939,\n 0.0,\n 'Chennai, Chennai District, Tamil Nadu, 600001, India')"
     },
     "execution_count": 11,
     "metadata": {},
     "output_type": "execute_result"
    }
   ],
   "source": [
    "#the API output has multiple other details as a json like altitude, latitude, longitude, correct raw address, etc.\n",
    "#printing all the information\n",
    "\n",
    "location.raw,location.point,location.longitude,location.latitude,location.altitude,location.address"
   ],
   "metadata": {
    "collapsed": false,
    "ExecuteTime": {
     "end_time": "2023-06-24T04:10:24.392161300Z",
     "start_time": "2023-06-24T04:10:24.328329500Z"
    }
   }
  },
  {
   "cell_type": "code",
   "execution_count": null,
   "outputs": [],
   "source": [],
   "metadata": {
    "collapsed": false
   }
  }
 ],
 "metadata": {
  "kernelspec": {
   "display_name": "Python 3",
   "language": "python",
   "name": "python3"
  },
  "language_info": {
   "codemirror_mode": {
    "name": "ipython",
    "version": 2
   },
   "file_extension": ".py",
   "mimetype": "text/x-python",
   "name": "python",
   "nbconvert_exporter": "python",
   "pygments_lexer": "ipython2",
   "version": "2.7.6"
  }
 },
 "nbformat": 4,
 "nbformat_minor": 0
}
