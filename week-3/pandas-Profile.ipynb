{
 "cells": [
  {
   "cell_type": "code",
   "execution_count": 1,
   "metadata": {
    "collapsed": true,
    "ExecuteTime": {
     "end_time": "2023-06-26T10:55:58.326379400Z",
     "start_time": "2023-06-26T10:55:55.781113600Z"
    }
   },
   "outputs": [
    {
     "name": "stderr",
     "output_type": "stream",
     "text": [
      "C:\\Users\\sujit\\AppData\\Local\\Temp\\ipykernel_14008\\830888235.py:1: DeprecationWarning: `import pandas_profiling` is going to be deprecated by April 1st. Please use `import ydata_profiling` instead.\n",
      "  from pandas_profiling import ProfileReport\n"
     ]
    }
   ],
   "source": [
    "from pandas_profiling import ProfileReport\n",
    "import pandas as pd"
   ]
  },
  {
   "cell_type": "code",
   "execution_count": 8,
   "outputs": [],
   "source": [
    "df = pd.read_csv(\"Datas.csv\").iloc[:,0:4]"
   ],
   "metadata": {
    "collapsed": false,
    "ExecuteTime": {
     "end_time": "2023-06-26T10:58:59.595052200Z",
     "start_time": "2023-06-26T10:58:59.562529Z"
    }
   }
  },
  {
   "cell_type": "code",
   "execution_count": 9,
   "outputs": [
    {
     "data": {
      "text/plain": "                  Date         Item  Qty  Amount\n0     December 1, 2022          Tea  2.0  ₹20.00\n1     December 1, 2022          Tea  1.0  ₹10.00\n2     December 1, 2022          Tea  1.0  ₹10.00\n3     December 1, 2022  Bread Omlet  1.0  ₹40.00\n4     December 1, 2022          Tea  2.0  ₹20.00\n...                ...          ...  ...     ...\n5002  January 31, 2023       Samosa  1.0  ₹10.00\n5003  January 31, 2023  bread omlet  1.0  ₹40.00\n5004  January 31, 2023          Tea  1.0  ₹10.00\n5005  January 31, 2023   Leamon Tea  1.0  ₹15.00\n5006  January 31, 2023          Tea  2.0  ₹20.00\n\n[5007 rows x 4 columns]",
      "text/html": "<div>\n<style scoped>\n    .dataframe tbody tr th:only-of-type {\n        vertical-align: middle;\n    }\n\n    .dataframe tbody tr th {\n        vertical-align: top;\n    }\n\n    .dataframe thead th {\n        text-align: right;\n    }\n</style>\n<table border=\"1\" class=\"dataframe\">\n  <thead>\n    <tr style=\"text-align: right;\">\n      <th></th>\n      <th>Date</th>\n      <th>Item</th>\n      <th>Qty</th>\n      <th>Amount</th>\n    </tr>\n  </thead>\n  <tbody>\n    <tr>\n      <th>0</th>\n      <td>December 1, 2022</td>\n      <td>Tea</td>\n      <td>2.0</td>\n      <td>₹20.00</td>\n    </tr>\n    <tr>\n      <th>1</th>\n      <td>December 1, 2022</td>\n      <td>Tea</td>\n      <td>1.0</td>\n      <td>₹10.00</td>\n    </tr>\n    <tr>\n      <th>2</th>\n      <td>December 1, 2022</td>\n      <td>Tea</td>\n      <td>1.0</td>\n      <td>₹10.00</td>\n    </tr>\n    <tr>\n      <th>3</th>\n      <td>December 1, 2022</td>\n      <td>Bread Omlet</td>\n      <td>1.0</td>\n      <td>₹40.00</td>\n    </tr>\n    <tr>\n      <th>4</th>\n      <td>December 1, 2022</td>\n      <td>Tea</td>\n      <td>2.0</td>\n      <td>₹20.00</td>\n    </tr>\n    <tr>\n      <th>...</th>\n      <td>...</td>\n      <td>...</td>\n      <td>...</td>\n      <td>...</td>\n    </tr>\n    <tr>\n      <th>5002</th>\n      <td>January 31, 2023</td>\n      <td>Samosa</td>\n      <td>1.0</td>\n      <td>₹10.00</td>\n    </tr>\n    <tr>\n      <th>5003</th>\n      <td>January 31, 2023</td>\n      <td>bread omlet</td>\n      <td>1.0</td>\n      <td>₹40.00</td>\n    </tr>\n    <tr>\n      <th>5004</th>\n      <td>January 31, 2023</td>\n      <td>Tea</td>\n      <td>1.0</td>\n      <td>₹10.00</td>\n    </tr>\n    <tr>\n      <th>5005</th>\n      <td>January 31, 2023</td>\n      <td>Leamon Tea</td>\n      <td>1.0</td>\n      <td>₹15.00</td>\n    </tr>\n    <tr>\n      <th>5006</th>\n      <td>January 31, 2023</td>\n      <td>Tea</td>\n      <td>2.0</td>\n      <td>₹20.00</td>\n    </tr>\n  </tbody>\n</table>\n<p>5007 rows × 4 columns</p>\n</div>"
     },
     "execution_count": 9,
     "metadata": {},
     "output_type": "execute_result"
    }
   ],
   "source": [
    "df"
   ],
   "metadata": {
    "collapsed": false,
    "ExecuteTime": {
     "end_time": "2023-06-26T10:59:01.346687700Z",
     "start_time": "2023-06-26T10:59:01.326527700Z"
    }
   }
  },
  {
   "cell_type": "code",
   "execution_count": 10,
   "outputs": [
    {
     "data": {
      "text/plain": "Summarize dataset:   0%|          | 0/5 [00:00<?, ?it/s]",
      "application/vnd.jupyter.widget-view+json": {
       "version_major": 2,
       "version_minor": 0,
       "model_id": "252446f498264a2c9797b2ca8fbbb1e0"
      }
     },
     "metadata": {},
     "output_type": "display_data"
    },
    {
     "data": {
      "text/plain": "Generate report structure:   0%|          | 0/1 [00:00<?, ?it/s]",
      "application/vnd.jupyter.widget-view+json": {
       "version_major": 2,
       "version_minor": 0,
       "model_id": "feba40a0a01d40d5aec68908509a82aa"
      }
     },
     "metadata": {},
     "output_type": "display_data"
    },
    {
     "data": {
      "text/plain": "Render HTML:   0%|          | 0/1 [00:00<?, ?it/s]",
      "application/vnd.jupyter.widget-view+json": {
       "version_major": 2,
       "version_minor": 0,
       "model_id": "c99c2db9723d4186a6c39bab645ab7bd"
      }
     },
     "metadata": {},
     "output_type": "display_data"
    },
    {
     "data": {
      "text/plain": "Export report to file:   0%|          | 0/1 [00:00<?, ?it/s]",
      "application/vnd.jupyter.widget-view+json": {
       "version_major": 2,
       "version_minor": 0,
       "model_id": "50e47b268469431a9f74e273c88ab161"
      }
     },
     "metadata": {},
     "output_type": "display_data"
    }
   ],
   "source": [
    "prof = ProfileReport(df)\n",
    "prof.to_file('report.html')\n",
    "# files.download('report.html')"
   ],
   "metadata": {
    "collapsed": false,
    "ExecuteTime": {
     "end_time": "2023-06-26T10:59:11.640907800Z",
     "start_time": "2023-06-26T10:59:10.174384600Z"
    }
   }
  },
  {
   "cell_type": "code",
   "execution_count": null,
   "outputs": [],
   "source": [],
   "metadata": {
    "collapsed": false
   }
  }
 ],
 "metadata": {
  "kernelspec": {
   "display_name": "Python 3",
   "language": "python",
   "name": "python3"
  },
  "language_info": {
   "codemirror_mode": {
    "name": "ipython",
    "version": 2
   },
   "file_extension": ".py",
   "mimetype": "text/x-python",
   "name": "python",
   "nbconvert_exporter": "python",
   "pygments_lexer": "ipython2",
   "version": "2.7.6"
  }
 },
 "nbformat": 4,
 "nbformat_minor": 0
}
